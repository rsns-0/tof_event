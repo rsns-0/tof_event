{
 "cells": [
  {
   "cell_type": "code",
   "execution_count": 26,
   "metadata": {},
   "outputs": [],
   "source": [
    "import pandas\n",
    "import json\n",
    "def generate_region(x1,y1,x2,y2):\n",
    "    return (x1,y1,x2-x1,y2-y1)\n",
    "\n",
    "xlfile = \"resources/ui_data/dataset1.xlsx\"\n",
    "\n",
    "df = pandas.read_excel(xlfile)\n",
    "\n",
    "dict_ui_data = {}"
   ]
  },
  {
   "cell_type": "code",
   "execution_count": 29,
   "metadata": {},
   "outputs": [],
   "source": [
    "for index, row in df.iterrows():\n",
    "    \n",
    "    item_name = row['name']\n",
    "    if row[1] == 'image':\n",
    "        dict_ui_data[item_name]={\n",
    "            'file_name':row['file_name'],\n",
    "            'region':generate_region(row[5],row[6],row[7],row[8]),\n",
    "            'type':'image'\n",
    "        }\n",
    "    else:\n",
    "        dict_ui_data[item_name]={\n",
    "            'coordinates':(row[2],row[3])\n",
    "        }\n",
    "\n",
    "json_data = json.dumps(dict_ui_data)\n",
    "with open('final_data_file.json','w') as f:\n",
    "    f.write(json_data)"
   ]
  },
  {
   "cell_type": "code",
   "execution_count": null,
   "metadata": {},
   "outputs": [],
   "source": []
  }
 ],
 "metadata": {
  "kernelspec": {
   "display_name": "Python 3",
   "language": "python",
   "name": "python3"
  },
  "language_info": {
   "codemirror_mode": {
    "name": "ipython",
    "version": 3
   },
   "file_extension": ".py",
   "mimetype": "text/x-python",
   "name": "python",
   "nbconvert_exporter": "python",
   "pygments_lexer": "ipython3",
   "version": "3.11.1"
  },
  "orig_nbformat": 4
 },
 "nbformat": 4,
 "nbformat_minor": 2
}
